{
 "cells": [
  {
   "cell_type": "code",
   "execution_count": null,
   "metadata": {},
   "outputs": [],
   "source": [
    "import rospy\n",
    "import ros_numpy\n",
    "from sensor_msgs.msg import Image as ImageMsg\n",
    "from PIL import Image\n",
    "from IPython.display import display\n",
    "import matplotlib.pyplot as plt\n",
    "import numpy as np"
   ]
  },
  {
   "cell_type": "code",
   "execution_count": null,
   "metadata": {},
   "outputs": [],
   "source": [
    "rospy.init_node('collect_images', anonymous=True)"
   ]
  },
  {
   "cell_type": "code",
   "execution_count": null,
   "metadata": {},
   "outputs": [],
   "source": [
    "rgb_message = rospy.wait_for_message(\"camera/color/image_raw\", ImageMsg)\n",
    "depth_message = rospy.wait_for_message(\"/camera/aligned_depth_to_color/image_raw\", ImageMsg)\n",
    "rgb_data = ros_numpy.numpify(rgb_message)\n",
    "depth_data = ros_numpy.numpify(depth_message)"
   ]
  },
  {
   "cell_type": "code",
   "execution_count": null,
   "metadata": {},
   "outputs": [],
   "source": [
    "print(rgb_data.shape)\n",
    "print(depth_data.shape)"
   ]
  },
  {
   "cell_type": "code",
   "execution_count": null,
   "metadata": {},
   "outputs": [],
   "source": [
    "rgb_image = Image.fromarray(rgb_data)\n",
    "rgb_image"
   ]
  },
  {
   "cell_type": "code",
   "execution_count": null,
   "metadata": {},
   "outputs": [],
   "source": [
    "depth_image = Image.fromarray(depth_data)"
   ]
  },
  {
   "cell_type": "code",
   "execution_count": null,
   "metadata": {},
   "outputs": [],
   "source": [
    "rgb_image.save(\"data/lego_split/demo_start_rgb_left.png\")\n",
    "depth_image.save(\"data/lego_split/demo_start_depth_left.png\")"
   ]
  },
  {
   "cell_type": "code",
   "execution_count": null,
   "metadata": {},
   "outputs": [],
   "source": [
    "from lang_sam import LangSAM\n",
    "\n",
    "rgb_image = Image.open(\"data/lego_split/left_demo_start_rgb.png\")\n",
    "depth_image = Image.open(\"data/lego_split/left_demo_start_depth.png\")\n",
    "\n",
    "model = LangSAM()"
   ]
  },
  {
   "cell_type": "code",
   "execution_count": null,
   "metadata": {},
   "outputs": [],
   "source": [
    "def save_mask(mask_np, filename):\n",
    "    mask_image = Image.fromarray((mask_np * 255).astype(np.uint8))\n",
    "    mask_image.save(filename)\n",
    "\n",
    "def display_image_with_masks(image, masks):\n",
    "    num_masks = len(masks)\n",
    "\n",
    "    fig, axes = plt.subplots(1, num_masks + 1, figsize=(15, 5))\n",
    "    axes[0].imshow(image)\n",
    "    axes[0].set_title(\"Original Image\")\n",
    "    axes[0].axis('off')\n",
    "\n",
    "    for i, mask_np in enumerate(masks):\n",
    "        axes[i+1].imshow(mask_np, cmap='gray')\n",
    "        axes[i+1].set_title(f\"Mask {i+1}\")\n",
    "        axes[i+1].axis('off')\n",
    "\n",
    "    plt.tight_layout()\n",
    "    plt.show()\n",
    "\n",
    "def display_image_with_boxes(image, boxes, logits):\n",
    "    fig, ax = plt.subplots()\n",
    "    ax.imshow(image)\n",
    "    ax.set_title(\"Image with Bounding Boxes\")\n",
    "    ax.axis('off')\n",
    "\n",
    "    for box, logit in zip(boxes, logits):\n",
    "        x_min, y_min, x_max, y_max = box\n",
    "        confidence_score = round(logit.item(), 2)  # Convert logit to a scalar before rounding\n",
    "        box_width = x_max - x_min\n",
    "        box_height = y_max - y_min\n",
    "\n",
    "        # Draw bounding box\n",
    "        rect = plt.Rectangle((x_min, y_min), box_width, box_height, fill=False, edgecolor='red', linewidth=2)\n",
    "        ax.add_patch(rect)\n",
    "\n",
    "        # Add confidence score as text\n",
    "        ax.text(x_min, y_min, f\"Confidence: {confidence_score}\", fontsize=8, color='red', verticalalignment='top')\n",
    "\n",
    "    plt.show()\n",
    "\n",
    "def print_bounding_boxes(boxes):\n",
    "    print(\"Bounding Boxes:\")\n",
    "    for i, box in enumerate(boxes):\n",
    "        print(f\"Box {i+1}: {box}\")\n",
    "\n",
    "def print_detected_phrases(phrases):\n",
    "    print(\"\\nDetected Phrases:\")\n",
    "    for i, phrase in enumerate(phrases):\n",
    "        print(f\"Phrase {i+1}: {phrase}\")\n",
    "\n",
    "def print_logits(logits):\n",
    "    print(\"\\nConfidence:\")\n",
    "    for i, logit in enumerate(logits):\n",
    "        print(f\"Logit {i+1}: {logit}\")"
   ]
  },
  {
   "cell_type": "code",
   "execution_count": null,
   "metadata": {},
   "outputs": [
    {
     "ename": "",
     "evalue": "",
     "output_type": "error",
     "traceback": [
      "\u001b[1;31mThe Kernel crashed while executing code in the the current cell or a previous cell. Please review the code in the cell(s) to identify a possible cause of the failure. Click <a href='https://aka.ms/vscodeJupyterKernelCrash'>here</a> for more info. View Jupyter <a href='command:jupyter.viewOutput'>log</a> for further details."
     ]
    }
   ],
   "source": [
    "image_pil = rgb_image.copy()\n",
    "text_prompt = \"lego\"\n",
    "masks, boxes, phrases, logits = model.predict(rgb_image, text_prompt)\n",
    "\n",
    "if len(masks) == 0:\n",
    "    print(f\"No objects of the '{text_prompt}' prompt detected in the image.\")\n",
    "else:\n",
    "    # Convert masks to numpy arrays\n",
    "    masks_np = [mask.squeeze().cpu().numpy() for mask in masks]\n",
    "\n",
    "    # Display the original image and masks side by side\n",
    "    display_image_with_masks(image_pil, masks_np)\n",
    "\n",
    "    # Display the image with bounding boxes and confidence scores\n",
    "    display_image_with_boxes(image_pil, boxes, logits)\n",
    "\n",
    "    # Save the masks\n",
    "    for i, mask_np in enumerate(masks_np):\n",
    "        mask_path = f\"demo_spray_mask_{i+1}.png\"\n",
    "        save_mask(mask_np, mask_path)\n",
    "\n",
    "    # Print the bounding boxes, phrases, and logits\n",
    "    print_bounding_boxes(boxes)\n",
    "    print_detected_phrases(phrases)\n",
    "    print_logits(logits)\n"
   ]
  }
 ],
 "metadata": {
  "kernelspec": {
   "display_name": "Python 3",
   "language": "python",
   "name": "python3"
  },
  "language_info": {
   "codemirror_mode": {
    "name": "ipython",
    "version": 3
   },
   "file_extension": ".py",
   "mimetype": "text/x-python",
   "name": "python",
   "nbconvert_exporter": "python",
   "pygments_lexer": "ipython3",
   "version": "3.8.10"
  }
 },
 "nbformat": 4,
 "nbformat_minor": 2
}
