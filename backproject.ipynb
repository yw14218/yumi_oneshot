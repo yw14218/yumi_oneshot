{
 "cells": [
  {
   "cell_type": "code",
   "execution_count": 1,
   "metadata": {},
   "outputs": [
    {
     "data": {
      "text/plain": [
       "array([[ 0.50418126,  0.09185436,  0.48143709, -0.99837866,  0.01344973,\n",
       "        -0.05489271,  0.00677801],\n",
       "       [ 0.49349562, -0.20686429,  0.41968363, -0.9836049 , -0.08057539,\n",
       "         0.04566163,  0.15473856],\n",
       "       [ 0.45431572,  0.05573993,  0.28884844,  0.99737963,  0.05747579,\n",
       "         0.03869391,  0.02081296],\n",
       "       [ 0.48795565, -0.09312451,  0.28185395, -0.99430351,  0.0169949 ,\n",
       "         0.01044858,  0.10470206],\n",
       "       [ 0.45431572,  0.14573993,  0.28884844,  0.99737963,  0.05747579,\n",
       "         0.03869391,  0.02081296]])"
      ]
     },
     "execution_count": 1,
     "metadata": {},
     "output_type": "execute_result"
    }
   ],
   "source": [
    "from scipy.spatial.transform import Rotation as R\n",
    "import json\n",
    "import numpy as np\n",
    "\n",
    "def create_homogeneous_matrix(xyz, quaternion):\n",
    "    rotation_matrix = R.from_quat(quaternion).as_matrix()\n",
    "    T = np.eye(4) \n",
    "    T[:3, :3] = rotation_matrix\n",
    "    T[:3, 3] = xyz \n",
    "\n",
    "    return T\n",
    "\n",
    "def pose_inv(pose):\n",
    "    R = pose[:3, :3]\n",
    "    T = np.eye(4)\n",
    "    T[:3, :3] = R.T\n",
    "    T[:3, 3] = - R.T @ np.ascontiguousarray(pose[:3, 3])\n",
    "    return T\n",
    "\n",
    "\n",
    "K = np.load(\"handeye/intrinsics_d415.npy\")\n",
    "T_WC = np.load(\"handeye/T_WC_head.npy\")\n",
    "DIR = \"scissor\"\n",
    "\n",
    "with open(f\"experiments/{DIR}/demo_bottlenecks.json\") as f:\n",
    "    dbn = json.load(f)\n",
    "    \n",
    "T_GRIP_EEF = create_homogeneous_matrix([0, 0, 0.136], [0, 0, 0, 1])\n",
    "demo_waypoints = np.vstack([dbn[key] for key in dbn.keys()])\n",
    "demo_waypoints"
   ]
  },
  {
   "cell_type": "code",
   "execution_count": 8,
   "metadata": {},
   "outputs": [
    {
     "ename": "AttributeError",
     "evalue": "'numpy.ndarray' object has no attribute 'as_quat'",
     "output_type": "error",
     "traceback": [
      "\u001b[0;31m---------------------------------------------------------------------------\u001b[0m",
      "\u001b[0;31mAttributeError\u001b[0m                            Traceback (most recent call last)",
      "Cell \u001b[0;32mIn[8], line 17\u001b[0m\n\u001b[1;32m     13\u001b[0m     project_pose[\u001b[38;5;241m3\u001b[39m:] \u001b[38;5;241m=\u001b[39m new_euler\u001b[38;5;241m.\u001b[39mas_quat()\n\u001b[1;32m     15\u001b[0m     \u001b[38;5;28;01mreturn\u001b[39;00m project_pose\n\u001b[0;32m---> 17\u001b[0m project_pose \u001b[38;5;241m=\u001b[39m \u001b[43mproject3D\u001b[49m\u001b[43m(\u001b[49m\u001b[43m[\u001b[49m\u001b[38;5;241;43m0.5122576949427623\u001b[39;49m\u001b[43m,\u001b[49m\u001b[43m \u001b[49m\u001b[38;5;241;43m0.2079057347792264\u001b[39;49m\u001b[43m,\u001b[49m\u001b[43m \u001b[49m\u001b[38;5;241;43m0.47840045944896903\u001b[39;49m\u001b[43m,\u001b[49m\u001b[43m \u001b[49m\u001b[38;5;241;43m0.9452851874707641\u001b[39;49m\u001b[43m,\u001b[49m\u001b[43m \u001b[49m\u001b[38;5;241;43m0.3255858373266077\u001b[39;49m\u001b[43m,\u001b[49m\u001b[43m \u001b[49m\u001b[38;5;241;43m-\u001b[39;49m\u001b[38;5;241;43m0.011332219402534116\u001b[39;49m\u001b[43m,\u001b[49m\u001b[43m \u001b[49m\u001b[38;5;241;43m-\u001b[39;49m\u001b[38;5;241;43m0.017359656796922612\u001b[39;49m\u001b[43m]\u001b[49m\u001b[43m,\u001b[49m\u001b[43m \u001b[49m\u001b[43mdemo_waypoints\u001b[49m\u001b[43m[\u001b[49m\u001b[38;5;241;43m0\u001b[39;49m\u001b[43m]\u001b[49m\u001b[43m)\u001b[49m\n",
      "Cell \u001b[0;32mIn[8], line 13\u001b[0m, in \u001b[0;36mproject3D\u001b[0;34m(new_pose, ori_pose)\u001b[0m\n\u001b[1;32m     10\u001b[0m new_euler[\u001b[38;5;241m0\u001b[39m] \u001b[38;5;241m=\u001b[39m ori_euler[\u001b[38;5;241m0\u001b[39m]\n\u001b[1;32m     11\u001b[0m new_euler[\u001b[38;5;241m1\u001b[39m] \u001b[38;5;241m=\u001b[39m ori_euler[\u001b[38;5;241m1\u001b[39m]\n\u001b[0;32m---> 13\u001b[0m project_pose[\u001b[38;5;241m3\u001b[39m:] \u001b[38;5;241m=\u001b[39m \u001b[43mnew_euler\u001b[49m\u001b[38;5;241;43m.\u001b[39;49m\u001b[43mas_quat\u001b[49m()\n\u001b[1;32m     15\u001b[0m \u001b[38;5;28;01mreturn\u001b[39;00m project_pose\n",
      "\u001b[0;31mAttributeError\u001b[0m: 'numpy.ndarray' object has no attribute 'as_quat'"
     ]
    }
   ],
   "source": [
    "import copy\n",
    "\n",
    "def project3D(new_pose, ori_pose):\n",
    "    project_pose = copy.deepcopy(new_pose)\n",
    "    project_pose[2] = ori_pose[2]\n",
    "\n",
    "    ori_euler = R.from_quat(ori_pose[3:]).as_euler(\"xyz\")\n",
    "    new_euler = R.from_quat(new_pose[3:]).as_euler(\"xyz\")\n",
    "\n",
    "    new_euler[0] = ori_euler[0]\n",
    "    new_euler[1] = ori_euler[1]\n",
    "\n",
    "    project_pose[3:] = R.from_euler(\"xyz\", new_euler).as_quat()\n",
    "\n",
    "    return project_pose\n",
    "\n",
    "project_pose = project3D([0.5122576949427623, 0.2079057347792264, 0.47840045944896903, 0.9452851874707641, 0.3255858373266077, -0.011332219402534116, -0.017359656796922612], demo_waypoints[0])"
   ]
  },
  {
   "cell_type": "code",
   "execution_count": 6,
   "metadata": {},
   "outputs": [
    {
     "name": "stdout",
     "output_type": "stream",
     "text": [
      "[[[ 0.80166556  0.59743358 -0.02013547  0.12090894]\n",
      "  [-0.59703313  0.79854408 -0.07667335  0.10163424]\n",
      "  [-0.02972817  0.07348792  0.99685293  0.00928547]\n",
      "  [ 0.          0.          0.          1.        ]]\n",
      "\n",
      " [[ 0.79912659  0.57874845 -0.16262508  0.28719692]\n",
      "  [-0.57245     0.81519079  0.08811913  0.09033893]\n",
      "  [ 0.18356928  0.02267638  0.98274519 -0.05047731]\n",
      "  [ 0.          0.          0.          1.        ]]\n",
      "\n",
      " [[ 0.80004568  0.59940666  0.02526969  0.13654073]\n",
      "  [-0.59693278  0.7995416  -0.06636633  0.14128604]\n",
      "  [-0.05998459  0.03801178  0.99747529  0.01526113]\n",
      "  [ 0.          0.          0.          1.        ]]\n",
      "\n",
      " [[ 0.79854691  0.59181523 -0.10989801  0.23743796]\n",
      "  [-0.59115714  0.80546126  0.04201652  0.06416333]\n",
      "  [ 0.1133846   0.03141482  0.9930544  -0.02103465]\n",
      "  [ 0.          0.          0.          1.        ]]\n",
      "\n",
      " [[ 0.80004568  0.59940666  0.02526969  0.08082076]\n",
      "  [-0.59693278  0.7995416  -0.06636633  0.15316788]\n",
      "  [-0.05998459  0.03801178  0.99747529  0.01124641]\n",
      "  [ 0.          0.          0.          1.        ]]]\n"
     ]
    },
    {
     "data": {
      "text/plain": [
       "array([[[ 0.80887007,  0.58083392,  0.09143945,  0.62268341],\n",
       "        [ 0.57427787, -0.81378487,  0.08921382, -0.01295889],\n",
       "        [ 0.12623046, -0.01965073, -0.99180629,  0.48391332],\n",
       "        [ 0.        ,  0.        ,  0.        ,  1.        ]],\n",
       "\n",
       "       [[ 0.68170208,  0.68391294, -0.25989491,  0.79460154],\n",
       "        [ 0.7300928 , -0.65891683,  0.18108871, -0.2571164 ],\n",
       "        [-0.04740022, -0.31319594, -0.94850489,  0.42073284],\n",
       "        [ 0.        ,  0.        ,  0.        ,  1.        ]],\n",
       "\n",
       "       [[ 0.72011363,  0.68705635,  0.09690164,  0.60673085],\n",
       "        [ 0.68770943, -0.72528781,  0.0318329 , -0.06918159],\n",
       "        [ 0.09215258,  0.04371687, -0.99478477,  0.29035264],\n",
       "        [ 0.        ,  0.        ,  0.        ,  1.        ]],\n",
       "\n",
       "       [[ 0.81723114,  0.56181937, -0.12842217,  0.72325795],\n",
       "        [ 0.5762621 , -0.79949035,  0.16952041, -0.16773609],\n",
       "        [-0.00743243, -0.21254219, -0.97712362,  0.28330757],\n",
       "        [ 0.        ,  0.        ,  0.        ,  1.        ]],\n",
       "\n",
       "       [[ 0.72011363,  0.68705635,  0.09690164,  0.55256951],\n",
       "        [ 0.68770943, -0.72528781,  0.0318329 ,  0.00269613],\n",
       "        [ 0.09215258,  0.04371687, -0.99478477,  0.29073056],\n",
       "        [ 0.        ,  0.        ,  0.        ,  1.        ]]])"
      ]
     },
     "execution_count": 6,
     "metadata": {},
     "output_type": "execute_result"
    }
   ],
   "source": [
    "from trajectory_utils import pose_inv\n",
    "\n",
    "def apply_transformation_to_waypoints(waypoints_np, delta_R, reverse=False, project3D=False):\n",
    "    \"\"\"\n",
    "    Apply a transformation to a list of end-effector poses using NumPy vectorization.\n",
    "    \"\"\"\n",
    "\n",
    "    # Separate translations and rotations\n",
    "    translations = waypoints_np[:, :3]\n",
    "    rotations = waypoints_np[:, 3:]\n",
    "\n",
    "    # Convert quaternions to rotation matrices\n",
    "    waypoint_rot_matrices = R.from_quat(rotations).as_matrix()\n",
    "\n",
    "    # Construct 4x4 matrices for waypoints\n",
    "    RW_matrices = np.zeros((waypoints_np.shape[0], 4, 4))\n",
    "    RW_matrices[:, :3, :3] = waypoint_rot_matrices\n",
    "    RW_matrices[:, :3, 3] = translations\n",
    "    RW_matrices[:, 3, 3] = 1\n",
    "\n",
    "    # Apply the transformation\n",
    "    transformed_matrices =  RW_matrices @ delta_R if reverse else delta_R @ RW_matrices\n",
    "\n",
    "    delta_eef =  @ transformed_matrices\n",
    "\n",
    "    # Extract translations and rotations from transformed matrices\n",
    "    transformed_translations = transformed_matrices[:, :3, 3]\n",
    "    transformed_rotations = R.from_matrix(transformed_matrices[:, :3, :3]).as_quat()\n",
    "\n",
    "\n",
    "    return transformed_matrices\n",
    "\n",
    "T_delta_world = np.array([[ 0.79857538, -0.60179267, -0.011088  ,  0.28067213],\n",
    "                        [ 0.60165335,  0.79864132, -0.01361215, -0.38310653],\n",
    "                        [ 0.01704703,  0.00419919,  0.99984587, -0.00643008],\n",
    "                        [ 0.        ,  0.        ,  0.        ,  1.        ]])\n",
    "\n",
    "res = apply_transformation_to_waypoints(demo_waypoints, T_delta_world)\n",
    "res"
   ]
  },
  {
   "cell_type": "code",
   "execution_count": 4,
   "metadata": {},
   "outputs": [
    {
     "ename": "ValueError",
     "evalue": "matmul: Input operand 1 has a mismatch in its core dimension 0, with gufunc signature (n?,k),(k,m?)->(n?,m?) (size 4 is different from 7)",
     "output_type": "error",
     "traceback": [
      "\u001b[0;31m---------------------------------------------------------------------------\u001b[0m",
      "\u001b[0;31mValueError\u001b[0m                                Traceback (most recent call last)",
      "Cell \u001b[0;32mIn[4], line 1\u001b[0m\n\u001b[0;32m----> 1\u001b[0m \u001b[43mdemo_waypoints\u001b[49m\u001b[43m \u001b[49m\u001b[38;5;241;43m@\u001b[39;49m\u001b[43m \u001b[49m\u001b[43mres\u001b[49m\n",
      "\u001b[0;31mValueError\u001b[0m: matmul: Input operand 1 has a mismatch in its core dimension 0, with gufunc signature (n?,k),(k,m?)->(n?,m?) (size 4 is different from 7)"
     ]
    }
   ],
   "source": []
  },
  {
   "cell_type": "code",
   "execution_count": 6,
   "metadata": {},
   "outputs": [
    {
     "data": {
      "text/plain": [
       "[0.794601542455787,\n",
       " -0.25711640018581905,\n",
       " 0.4196836324630228,\n",
       " 0.9072269032405044,\n",
       " 0.3884717989473198,\n",
       " -0.09239512018035448,\n",
       " -0.1322578890884605]"
      ]
     },
     "execution_count": 6,
     "metadata": {},
     "output_type": "execute_result"
    }
   ],
   "source": [
    "res = apply_transformation_to_waypoints(demo_waypoints, T_delta_world, project3D=True)\n",
    "res[1]"
   ]
  },
  {
   "cell_type": "code",
   "execution_count": 62,
   "metadata": {},
   "outputs": [
    {
     "data": {
      "text/plain": [
       "[array([1134.18602041,   63.35327591]),\n",
       " array([591.82082126, 156.4616502 ]),\n",
       " array([967.88171055, 318.41246776]),\n",
       " array([762.80761621, 349.90925078]),\n",
       " array([1093.95793212,  319.87692355])]"
      ]
     },
     "execution_count": 62,
     "metadata": {},
     "output_type": "execute_result"
    }
   ],
   "source": [
    "point_2Ds = []\n",
    "\n",
    "for i in range(len(demo_waypoints)):\n",
    "    point3d = pose_inv(T_WC) @ T_GRIP_EEF @ create_homogeneous_matrix(demo_waypoints[i, :3], demo_waypoints[i, 3:])\n",
    "    \n",
    "    # Project the 3D point onto the image plane\n",
    "    point_image_homogeneous = np.dot(K, point3d[:3, 3])\n",
    "    \n",
    "    # Normalize the coordinates to get the 2D image point\n",
    "    point_2D = point_image_homogeneous[:2] / point_image_homogeneous[2]\n",
    "\n",
    "    point_2Ds.append(point_2D)\n",
    "\n",
    "point_2Ds"
   ]
  },
  {
   "cell_type": "code",
   "execution_count": 63,
   "metadata": {},
   "outputs": [],
   "source": [
    "from PIL import Image, ImageDraw\n",
    "\n",
    "head_rgb = Image.open(f\"data/{DIR}/demo_head_rgb.png\")\n",
    "\n",
    "# Create a drawing context\n",
    "draw = ImageDraw.Draw(head_rgb)\n",
    "\n",
    "for point_2D in point_2Ds:\n",
    "    x, y, r = point_2D[0], point_2D[1], 5\n",
    "    # Draw the circle (ellipse) with bounding box [(x-r, y-r), (x+r, y+r)]\n",
    "    draw.ellipse((x-r, y-r, x+r, y+r), outline=\"red\", width=3)\n",
    "\n",
    "\n",
    "# Save or show the image\n",
    "head_rgb.show()  # To display the image"
   ]
  }
 ],
 "metadata": {
  "kernelspec": {
   "display_name": "Python 3",
   "language": "python",
   "name": "python3"
  },
  "language_info": {
   "codemirror_mode": {
    "name": "ipython",
    "version": 3
   },
   "file_extension": ".py",
   "mimetype": "text/x-python",
   "name": "python",
   "nbconvert_exporter": "python",
   "pygments_lexer": "ipython3",
   "version": "3.8.10"
  }
 },
 "nbformat": 4,
 "nbformat_minor": 2
}
