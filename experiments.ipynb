{
 "cells": [
  {
   "cell_type": "code",
   "execution_count": 61,
   "metadata": {},
   "outputs": [
    {
     "data": {
      "text/plain": [
       "array([[ 0.50418126,  0.09185436,  0.48143709, -0.99837866,  0.01344973,\n",
       "        -0.05489271,  0.00677801],\n",
       "       [ 0.49349562, -0.20686429,  0.41968363, -0.9836049 , -0.08057539,\n",
       "         0.04566163,  0.15473856],\n",
       "       [ 0.45431572,  0.05573993,  0.28884844,  0.99737963,  0.05747579,\n",
       "         0.03869391,  0.02081296],\n",
       "       [ 0.48795565, -0.09312451,  0.28185395, -0.99430351,  0.0169949 ,\n",
       "         0.01044858,  0.10470206],\n",
       "       [ 0.45431572,  0.14573993,  0.28884844,  0.99737963,  0.05747579,\n",
       "         0.03869391,  0.02081296]])"
      ]
     },
     "execution_count": 61,
     "metadata": {},
     "output_type": "execute_result"
    }
   ],
   "source": [
    "from scipy.spatial.transform import Rotation as R\n",
    "import json\n",
    "import numpy as np\n",
    "\n",
    "def create_homogeneous_matrix(xyz, quaternion):\n",
    "    rotation_matrix = R.from_quat(quaternion).as_matrix()\n",
    "    T = np.eye(4) \n",
    "    T[:3, :3] = rotation_matrix\n",
    "    T[:3, 3] = xyz \n",
    "\n",
    "    return T\n",
    "\n",
    "def pose_inv(pose):\n",
    "    R = pose[:3, :3]\n",
    "    T = np.eye(4)\n",
    "    T[:3, :3] = R.T\n",
    "    T[:3, 3] = - R.T @ np.ascontiguousarray(pose[:3, 3])\n",
    "    return T\n",
    "\n",
    "\n",
    "K = np.load(\"handeye/intrinsics_d415.npy\")\n",
    "T_WC = np.load(\"handeye/T_WC_head.npy\")\n",
    "DIR = \"scissor\"\n",
    "\n",
    "with open(f\"data/{DIR}/demo_bottlenecks.json\") as f:\n",
    "    dbn = json.load(f)\n",
    "    \n",
    "T_GRIP_EEF = create_homogeneous_matrix([0, 0, 0.136], [0, 0, 0, 1])\n",
    "demo_waypoints = np.vstack([dbn[key] for key in dbn.keys()])\n",
    "demo_waypoints"
   ]
  },
  {
   "cell_type": "code",
   "execution_count": 62,
   "metadata": {},
   "outputs": [
    {
     "data": {
      "text/plain": [
       "[array([1134.18602041,   63.35327591]),\n",
       " array([591.82082126, 156.4616502 ]),\n",
       " array([967.88171055, 318.41246776]),\n",
       " array([762.80761621, 349.90925078]),\n",
       " array([1093.95793212,  319.87692355])]"
      ]
     },
     "execution_count": 62,
     "metadata": {},
     "output_type": "execute_result"
    }
   ],
   "source": [
    "point_2Ds = []\n",
    "\n",
    "for i in range(len(demo_waypoints)):\n",
    "    point3d = pose_inv(T_WC) @ T_GRIP_EEF @ create_homogeneous_matrix(demo_waypoints[i, :3], demo_waypoints[i, 3:])\n",
    "    \n",
    "    # Project the 3D point onto the image plane\n",
    "    point_image_homogeneous = np.dot(K, point3d[:3, 3])\n",
    "    \n",
    "    # Normalize the coordinates to get the 2D image point\n",
    "    point_2D = point_image_homogeneous[:2] / point_image_homogeneous[2]\n",
    "\n",
    "    point_2Ds.append(point_2D)\n",
    "\n",
    "point_2Ds"
   ]
  },
  {
   "cell_type": "code",
   "execution_count": 63,
   "metadata": {},
   "outputs": [],
   "source": [
    "from PIL import Image, ImageDraw\n",
    "\n",
    "head_rgb = Image.open(f\"data/{DIR}/demo_head_rgb.png\")\n",
    "\n",
    "# Create a drawing context\n",
    "draw = ImageDraw.Draw(head_rgb)\n",
    "\n",
    "for point_2D in point_2Ds:\n",
    "    x, y, r = point_2D[0], point_2D[1], 5\n",
    "    # Draw the circle (ellipse) with bounding box [(x-r, y-r), (x+r, y+r)]\n",
    "    draw.ellipse((x-r, y-r, x+r, y+r), outline=\"red\", width=3)\n",
    "\n",
    "\n",
    "# Save or show the image\n",
    "head_rgb.show()  # To display the image"
   ]
  }
 ],
 "metadata": {
  "language_info": {
   "name": "python"
  }
 },
 "nbformat": 4,
 "nbformat_minor": 2
}
